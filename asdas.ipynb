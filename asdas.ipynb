{
 "cells": [
  {
   "cell_type": "code",
   "execution_count": null,
   "id": "071d341e",
   "metadata": {},
   "outputs": [],
   "source": [
    "name assignmet \n",
    "lists\n",
    "all the printing stuff \n",
    "for function \n",
    "if , elif , else"
   ]
  }
 ],
 "metadata": {
  "kernelspec": {
   "display_name": ".venv",
   "language": "python",
   "name": "python3"
  },
  "language_info": {
   "name": "python",
   "version": "3.12.11"
  }
 },
 "nbformat": 4,
 "nbformat_minor": 5
}
